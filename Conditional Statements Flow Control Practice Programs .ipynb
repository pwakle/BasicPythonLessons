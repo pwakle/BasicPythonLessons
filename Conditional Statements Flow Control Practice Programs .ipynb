{
 "cells": [
  {
   "cell_type": "code",
   "execution_count": 1,
   "id": "85f6fba7",
   "metadata": {},
   "outputs": [],
   "source": [
    "#Conditional Statements Practice Programs"
   ]
  },
  {
   "cell_type": "code",
   "execution_count": 6,
   "id": "a1cb3464",
   "metadata": {},
   "outputs": [
    {
     "name": "stdout",
     "output_type": "stream",
     "text": [
      "Enter Number:101\n",
      "Entered number is incorrect\n"
     ]
    }
   ],
   "source": [
    "#Program to Check whether the given Number is in between 1 and 100\n",
    "n=int(input(\"Enter Number:\"))\n",
    "if n>1 and n<100:\n",
    "      print(\"Entered number is connect\")\n",
    "else:\n",
    "      print(\"Entered number is incorrect\")"
   ]
  },
  {
   "cell_type": "code",
   "execution_count": 16,
   "id": "84c4741e",
   "metadata": {
    "scrolled": true
   },
   "outputs": [
    {
     "name": "stdout",
     "output_type": "stream",
     "text": [
      "Enter a digit from o to 3:6\n",
      "Number entered is not in the range\n"
     ]
    }
   ],
   "source": [
    "#Program to take a Single Digit Number(0 to 5) from the KeyBoard and Print is Value in English Word\n",
    "n=int(input(\"Enter a digit from o to 3:\"))\n",
    "if n==0:\n",
    "        print(\"ZERO\")\n",
    "elif n==1:\n",
    "        print(\"ONE\")\n",
    "elif n==2:\n",
    "        print(\"TWO\")\n",
    "elif n==3:\n",
    "        print(\"THREE\")\n",
    "print(\"Number entered is not in the range\")"
   ]
  }
 ],
 "metadata": {
  "kernelspec": {
   "display_name": "Python 3 (ipykernel)",
   "language": "python",
   "name": "python3"
  },
  "language_info": {
   "codemirror_mode": {
    "name": "ipython",
    "version": 3
   },
   "file_extension": ".py",
   "mimetype": "text/x-python",
   "name": "python",
   "nbconvert_exporter": "python",
   "pygments_lexer": "ipython3",
   "version": "3.10.9"
  }
 },
 "nbformat": 4,
 "nbformat_minor": 5
}
