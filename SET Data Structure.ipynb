{
 "cells": [
  {
   "cell_type": "code",
   "execution_count": 1,
   "id": "0ec39855",
   "metadata": {},
   "outputs": [],
   "source": [
    "#SET Data Structure \n",
    "#Duplicates are not allowed"
   ]
  },
  {
   "cell_type": "code",
   "execution_count": 3,
   "id": "48a33b33",
   "metadata": {},
   "outputs": [
    {
     "name": "stdout",
     "output_type": "stream",
     "text": [
      "{40, 10, 20, 30}\n"
     ]
    }
   ],
   "source": [
    "#Creating a SET\n",
    "s={10,20,30,40} \n",
    "print(s)"
   ]
  },
  {
   "cell_type": "code",
   "execution_count": 4,
   "id": "565cb8e9",
   "metadata": {},
   "outputs": [
    {
     "name": "stdout",
     "output_type": "stream",
     "text": [
      "{0, 1, 2, 3, 4}\n"
     ]
    }
   ],
   "source": [
    "s1=set(range(5))\n",
    "print(s1)"
   ]
  },
  {
   "cell_type": "code",
   "execution_count": 7,
   "id": "9e038c13",
   "metadata": {},
   "outputs": [
    {
     "name": "stdout",
     "output_type": "stream",
     "text": [
      "{0, 1, 2}\n"
     ]
    }
   ],
   "source": [
    "s2=set(range(3))\n",
    "print(s2)"
   ]
  },
  {
   "cell_type": "code",
   "execution_count": 10,
   "id": "bd8cb34a",
   "metadata": {},
   "outputs": [
    {
     "name": "stdout",
     "output_type": "stream",
     "text": [
      "{10, 80, 20, 60, 30}\n"
     ]
    }
   ],
   "source": [
    "#Adds item x to the set.\n",
    "s3={10,20,30,60}\n",
    "s3.add(80)\n",
    "print(s3)"
   ]
  },
  {
   "cell_type": "code",
   "execution_count": null,
   "id": "bf5f0b0d",
   "metadata": {},
   "outputs": [],
   "source": [
    "#What is the difference between add() and update() Functions in Set\n",
    "#add() function can take only one argument where as update() function can take any number of arguments"
   ]
  },
  {
   "cell_type": "code",
   "execution_count": 11,
   "id": "6bee6016",
   "metadata": {},
   "outputs": [
    {
     "name": "stdout",
     "output_type": "stream",
     "text": [
      "{10, 20, 30}\n"
     ]
    }
   ],
   "source": [
    "#Returns copy of the set\n",
    "s4 = {10,20,30}\n",
    "snew = s4.copy()\n",
    "print(snew)"
   ]
  },
  {
   "cell_type": "code",
   "execution_count": 12,
   "id": "44ebbc78",
   "metadata": {},
   "outputs": [
    {
     "name": "stdout",
     "output_type": "stream",
     "text": [
      "{40, 10, 20}\n"
     ]
    }
   ],
   "source": [
    "# To removes specified element from the set\n",
    "s7 = {40, 10, 30, 20} \n",
    "s7.remove(30)\n",
    "print(s7)"
   ]
  }
 ],
 "metadata": {
  "kernelspec": {
   "display_name": "Python 3 (ipykernel)",
   "language": "python",
   "name": "python3"
  },
  "language_info": {
   "codemirror_mode": {
    "name": "ipython",
    "version": 3
   },
   "file_extension": ".py",
   "mimetype": "text/x-python",
   "name": "python",
   "nbconvert_exporter": "python",
   "pygments_lexer": "ipython3",
   "version": "3.10.9"
  }
 },
 "nbformat": 4,
 "nbformat_minor": 5
}
