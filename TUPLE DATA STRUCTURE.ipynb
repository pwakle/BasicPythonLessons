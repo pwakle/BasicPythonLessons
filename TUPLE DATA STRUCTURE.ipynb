{
 "cells": [
  {
   "cell_type": "code",
   "execution_count": 1,
   "id": "5d385a9c",
   "metadata": {},
   "outputs": [],
   "source": [
    "#Prgrams on TUPLE DATA STRUCTURE"
   ]
  },
  {
   "cell_type": "code",
   "execution_count": 2,
   "id": "10a0bf9d",
   "metadata": {},
   "outputs": [],
   "source": [
    "#Tuple is exactly same as List except that it is immutable"
   ]
  },
  {
   "cell_type": "code",
   "execution_count": 6,
   "id": "b5857c4a",
   "metadata": {},
   "outputs": [
    {
     "name": "stdout",
     "output_type": "stream",
     "text": [
      "(10, 20, 30, 40)\n",
      "<class 'tuple'>\n"
     ]
    }
   ],
   "source": [
    "t1=10,20,30,40\n",
    "print(t1)\n",
    "print(type(t1))"
   ]
  },
  {
   "cell_type": "code",
   "execution_count": 7,
   "id": "b811420a",
   "metadata": {},
   "outputs": [
    {
     "name": "stdout",
     "output_type": "stream",
     "text": [
      "(10,)\n"
     ]
    }
   ],
   "source": [
    "#Single value tuple should end with comma\n",
    "t2=(10,) \n",
    "print(t2)"
   ]
  },
  {
   "cell_type": "code",
   "execution_count": 8,
   "id": "1ccada40",
   "metadata": {},
   "outputs": [
    {
     "name": "stdout",
     "output_type": "stream",
     "text": [
      "<class 'tuple'>\n"
     ]
    }
   ],
   "source": [
    "t3=(10) \n",
    "print(type(t2))"
   ]
  },
  {
   "cell_type": "code",
   "execution_count": 13,
   "id": "1d0122ec",
   "metadata": {},
   "outputs": [
    {
     "name": "stdout",
     "output_type": "stream",
     "text": [
      "30\n",
      "50\n"
     ]
    }
   ],
   "source": [
    "#Using index in tuples\n",
    "t5 = (10, 20, 30, 40, 50, 60)\n",
    "print(t5[2])\n",
    "print(t5[-2])"
   ]
  },
  {
   "cell_type": "code",
   "execution_count": 16,
   "id": "c308c7e0",
   "metadata": {},
   "outputs": [
    {
     "name": "stdout",
     "output_type": "stream",
     "text": [
      "(30, 40, 50)\n",
      "(10, 30, 50)\n"
     ]
    }
   ],
   "source": [
    "#Using Slice Operator in tuples\n",
    "t6=(10,20,30,40,50,60)\n",
    "print(t6[2:5])\n",
    "print(t6[::2])"
   ]
  },
  {
   "cell_type": "code",
   "execution_count": 18,
   "id": "e49f9161",
   "metadata": {},
   "outputs": [
    {
     "name": "stdout",
     "output_type": "stream",
     "text": [
      "5\n"
     ]
    }
   ],
   "source": [
    "#Functions in tuple\n",
    "#Program to return number of elements present in the tuple\n",
    "t = (10,20,30,40,50)\n",
    "print(len(t))"
   ]
  },
  {
   "cell_type": "code",
   "execution_count": 22,
   "id": "7baf88ba",
   "metadata": {},
   "outputs": [
    {
     "name": "stdout",
     "output_type": "stream",
     "text": [
      "1\n",
      "2\n"
     ]
    }
   ],
   "source": [
    "#Program to count the number of occurrences of given element in the tuple\n",
    "t= (10,20,30,20,40,50)\n",
    "print(t.count(10))\n",
    "print(t.count(20))"
   ]
  },
  {
   "cell_type": "code",
   "execution_count": 24,
   "id": "1a09f0c3",
   "metadata": {
    "scrolled": true
   },
   "outputs": [
    {
     "name": "stdout",
     "output_type": "stream",
     "text": [
      "[10, 20, 30, 40]\n"
     ]
    }
   ],
   "source": [
    "#Program to sort elements based on default natural sorting order\n",
    "t=(40,10,30,20)\n",
    "t9=sorted(t)\n",
    "print(t9)"
   ]
  }
 ],
 "metadata": {
  "kernelspec": {
   "display_name": "Python 3 (ipykernel)",
   "language": "python",
   "name": "python3"
  },
  "language_info": {
   "codemirror_mode": {
    "name": "ipython",
    "version": 3
   },
   "file_extension": ".py",
   "mimetype": "text/x-python",
   "name": "python",
   "nbconvert_exporter": "python",
   "pygments_lexer": "ipython3",
   "version": "3.10.9"
  }
 },
 "nbformat": 4,
 "nbformat_minor": 5
}
