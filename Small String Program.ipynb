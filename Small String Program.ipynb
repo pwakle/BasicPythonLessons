{
 "cells": [
  {
   "cell_type": "code",
   "execution_count": 2,
   "id": "3d3e01ff",
   "metadata": {},
   "outputs": [
    {
     "name": "stdout",
     "output_type": "stream",
     "text": [
      "Enter the string:merit\n",
      "tirem\n"
     ]
    }
   ],
   "source": [
    "#String Small Program Questions\n",
    "#Program to reverse content of the string\n",
    "s1=input(\"Enter the string:\")\n",
    "o1=s1[::-1]\n",
    "print(o1)"
   ]
  },
  {
   "cell_type": "code",
   "execution_count": 4,
   "id": "5ae52e1f",
   "metadata": {},
   "outputs": [
    {
     "name": "stdout",
     "output_type": "stream",
     "text": [
      "Enter the string:match\n",
      "hctam\n"
     ]
    }
   ],
   "source": [
    "#Program To REVERSE content of the given String by using reversed()function\n",
    "s2=input(\"Enter the string:\")\n",
    "o2=reversed(s2)\n",
    "o3=''.join(o2)\n",
    "print(o3)"
   ]
  }
 ],
 "metadata": {
  "kernelspec": {
   "display_name": "Python 3 (ipykernel)",
   "language": "python",
   "name": "python3"
  },
  "language_info": {
   "codemirror_mode": {
    "name": "ipython",
    "version": 3
   },
   "file_extension": ".py",
   "mimetype": "text/x-python",
   "name": "python",
   "nbconvert_exporter": "python",
   "pygments_lexer": "ipython3",
   "version": "3.10.9"
  }
 },
 "nbformat": 4,
 "nbformat_minor": 5
}
