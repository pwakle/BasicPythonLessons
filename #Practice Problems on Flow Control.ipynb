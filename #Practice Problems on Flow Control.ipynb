{
 "cells": [
  {
   "cell_type": "code",
   "execution_count": 6,
   "id": "05d74b08",
   "metadata": {},
   "outputs": [],
   "source": [
    "#Practice Problems on Flow Control"
   ]
  },
  {
   "cell_type": "code",
   "execution_count": null,
   "id": "8bff9f95",
   "metadata": {},
   "outputs": [],
   "source": [
    "#if condition :\n",
    " statement-1\n",
    " statement-2\n",
    " statement-3"
   ]
  },
  {
   "cell_type": "code",
   "execution_count": 5,
   "id": "31b55602",
   "metadata": {},
   "outputs": [
    {
     "name": "stdout",
     "output_type": "stream",
     "text": [
      "Enter Name:praveen\n",
      "Hey, Good Morning\n",
      "How are u\n"
     ]
    }
   ],
   "source": [
    "name=input(\"Enter Name:\")\n",
    "if name==\"praveen\":\n",
    "    print(\"Hey, Good Morning\")\n",
    "print(\"How are u\")"
   ]
  },
  {
   "cell_type": "code",
   "execution_count": 12,
   "id": "c8b09cbe",
   "metadata": {},
   "outputs": [],
   "source": [
    "#if-else:\n",
    "#if condition:\n",
    "        #Action-1\n",
    "    #else:\n",
    "       # Action-2"
   ]
  },
  {
   "cell_type": "code",
   "execution_count": 14,
   "id": "4cbe6a40",
   "metadata": {},
   "outputs": [
    {
     "name": "stdout",
     "output_type": "stream",
     "text": [
      "Enter Name:mandy\n",
      "Your name is not different\n"
     ]
    }
   ],
   "source": [
    "name=input(\"Enter Name:\")\n",
    "if name==\"praveen\":\n",
    "    print(\"Hey, Good Morning\")\n",
    "else:\n",
    "    print(\"Your name is not different\")"
   ]
  }
 ],
 "metadata": {
  "kernelspec": {
   "display_name": "Python 3 (ipykernel)",
   "language": "python",
   "name": "python3"
  },
  "language_info": {
   "codemirror_mode": {
    "name": "ipython",
    "version": 3
   },
   "file_extension": ".py",
   "mimetype": "text/x-python",
   "name": "python",
   "nbconvert_exporter": "python",
   "pygments_lexer": "ipython3",
   "version": "3.10.9"
  }
 },
 "nbformat": 4,
 "nbformat_minor": 5
}
