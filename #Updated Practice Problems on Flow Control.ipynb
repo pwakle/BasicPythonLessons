{
 "cells": [
  {
   "cell_type": "code",
   "execution_count": 6,
   "id": "05d74b08",
   "metadata": {},
   "outputs": [],
   "source": [
    "#Practice Problems on Flow Control"
   ]
  },
  {
   "cell_type": "code",
   "execution_count": null,
   "id": "8bff9f95",
   "metadata": {},
   "outputs": [],
   "source": [
    "#if condition :\n",
    " statement-1\n",
    " statement-2\n",
    " statement-3"
   ]
  },
  {
   "cell_type": "code",
   "execution_count": 5,
   "id": "31b55602",
   "metadata": {},
   "outputs": [
    {
     "name": "stdout",
     "output_type": "stream",
     "text": [
      "Enter Name:praveen\n",
      "Hey, Good Morning\n",
      "How are u\n"
     ]
    }
   ],
   "source": [
    "name=input(\"Enter Name:\")\n",
    "if name==\"praveen\":\n",
    "    print(\"Hey, Good Morning\")\n",
    "print(\"How are u\")"
   ]
  },
  {
   "cell_type": "code",
   "execution_count": 12,
   "id": "c8b09cbe",
   "metadata": {},
   "outputs": [],
   "source": [
    "#if-else:\n",
    "#if condition:\n",
    "        #Action-1\n",
    "    #else:\n",
    "       # Action-2"
   ]
  },
  {
   "cell_type": "code",
   "execution_count": 14,
   "id": "4cbe6a40",
   "metadata": {},
   "outputs": [
    {
     "name": "stdout",
     "output_type": "stream",
     "text": [
      "Enter Name:mandy\n",
      "Your name is not different\n"
     ]
    }
   ],
   "source": [
    "name=input(\"Enter Name:\")\n",
    "if name==\"praveen\":\n",
    "    print(\"Hey, Good Morning\")\n",
    "else:\n",
    "    print(\"Your name is not different\")"
   ]
  },
  {
   "cell_type": "code",
   "execution_count": 1,
   "id": "61e97e90",
   "metadata": {},
   "outputs": [
    {
     "name": "stdout",
     "output_type": "stream",
     "text": [
      "Enter First Number:10\n",
      "Enter Second Number:2\n",
      "n1 is greater than n2\n"
     ]
    }
   ],
   "source": [
    "# Program to find Biggest of given 2 Numbers from the Command Prompt\n",
    "n1=int(input(\"Enter First Number:\")) \n",
    "n2=int(input(\"Enter Second Number:\")) \n",
    "if n1>n2:\n",
    "    print(\"n1 is greater than n2\")\n",
    "else:\n",
    "    print(\"n2 is greater than n1\")"
   ]
  },
  {
   "cell_type": "code",
   "execution_count": 3,
   "id": "a14bc8c2",
   "metadata": {},
   "outputs": [
    {
     "name": "stdout",
     "output_type": "stream",
     "text": [
      "Enter First Number:10\n",
      "Enter Second Number:5\n",
      "The bigger number is 10\n"
     ]
    }
   ],
   "source": [
    "# Program to find Biggest of given 2 Numbers from the Command Prompt\n",
    "n1=int(input(\"Enter First Number:\")) \n",
    "n2=int(input(\"Enter Second Number:\")) \n",
    "if n1>n2:\n",
    "    print(\"The bigger number is\", n1)\n",
    "else:\n",
    "    print(\"the bigger number is\", n2)"
   ]
  },
  {
   "cell_type": "code",
   "execution_count": 4,
   "id": "c42876cd",
   "metadata": {},
   "outputs": [],
   "source": [
    "#There is no switch statement in Python"
   ]
  },
  {
   "cell_type": "code",
   "execution_count": 9,
   "id": "2901010b",
   "metadata": {},
   "outputs": [
    {
     "name": "stdout",
     "output_type": "stream",
     "text": [
      "Enter First Number:10\n",
      "Enter Second Number:20\n",
      "Enter Second Number:30\n",
      "The bigger number is a3 30\n"
     ]
    }
   ],
   "source": [
    "#Program to find Biggest of given 3 Numbers from the Command Prompt\n",
    "a1=int(input(\"Enter First Number:\")) \n",
    "a2=int(input(\"Enter Second Number:\"))\n",
    "a3=int(input(\"Enter Second Number:\"))\n",
    "if a1>a2 and a2>a3:\n",
    "    print(\"The bigger number is a1\", a1)\n",
    "elif a3>a2 and a3>a1:\n",
    "    print(\"The bigger number is a3\", a3)\n",
    "else:\n",
    "    print(\"the bigger number is a2\", a2)"
   ]
  },
  {
   "cell_type": "code",
   "execution_count": 10,
   "id": "cbc96b0c",
   "metadata": {},
   "outputs": [
    {
     "name": "stdout",
     "output_type": "stream",
     "text": [
      "Enter First Number:50\n",
      "Enter Second Number:60\n",
      "b1 is the smallest number & its value is 50\n"
     ]
    }
   ],
   "source": [
    "#program to find smallest of given 2 numbers\n",
    "b1=int(input(\"Enter First Number:\")) \n",
    "b2=int(input(\"Enter Second Number:\")) \n",
    "if b1>b2:\n",
    "    print(\"b2 is the smallest number & its value is\", b2)\n",
    "else:\n",
    "    print(\"b1 is the smallest number & its value is\", b1)"
   ]
  },
  {
   "cell_type": "code",
   "execution_count": 12,
   "id": "574d8b06",
   "metadata": {},
   "outputs": [
    {
     "name": "stdout",
     "output_type": "stream",
     "text": [
      "Enter First Number:10\n",
      "Enter Second Number:90\n",
      "Enter Second Number:50\n",
      "The smallest number is  10\n"
     ]
    }
   ],
   "source": [
    "#Program to find smallest of given 3 Numbers from the Command Prompt\n",
    "c1=int(input(\"Enter First Number:\")) \n",
    "c2=int(input(\"Enter Second Number:\"))\n",
    "c3=int(input(\"Enter Second Number:\"))\n",
    "if c1<c2 and c1<c3:\n",
    "    print(\"The smallest number is \", c1)\n",
    "elif c3<c1 and c3<c2:\n",
    "    print(\"The smallest number is \", c3)\n",
    "else:\n",
    "    print(\"The smallest number is \", c2)"
   ]
  },
  {
   "cell_type": "code",
   "execution_count": null,
   "id": "6647ca68",
   "metadata": {},
   "outputs": [],
   "source": []
  }
 ],
 "metadata": {
  "kernelspec": {
   "display_name": "Python 3 (ipykernel)",
   "language": "python",
   "name": "python3"
  },
  "language_info": {
   "codemirror_mode": {
    "name": "ipython",
    "version": 3
   },
   "file_extension": ".py",
   "mimetype": "text/x-python",
   "name": "python",
   "nbconvert_exporter": "python",
   "pygments_lexer": "ipython3",
   "version": "3.10.9"
  }
 },
 "nbformat": 4,
 "nbformat_minor": 5
}
