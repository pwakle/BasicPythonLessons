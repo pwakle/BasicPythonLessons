{
 "cells": [
  {
   "cell_type": "code",
   "execution_count": null,
   "metadata": {},
   "outputs": [],
   "source": [
    "#Python Basic Programs"
   ]
  },
  {
   "cell_type": "code",
   "execution_count": 4,
   "metadata": {},
   "outputs": [
    {
     "name": "stdout",
     "output_type": "stream",
     "text": [
      "Hello, world!\n"
     ]
    }
   ],
   "source": [
    "#print Hello World\n",
    "print('Hello, world!')"
   ]
  },
  {
   "cell_type": "code",
   "execution_count": 56,
   "metadata": {},
   "outputs": [
    {
     "name": "stdout",
     "output_type": "stream",
     "text": [
      "The sum of two numbers is 4\n"
     ]
    }
   ],
   "source": [
    "#Add 2 numbers with print function\n",
    "num_1=1\n",
    "num_2=3\n",
    "num_3=num_1+num_2\n",
    "print('The sum of two numbers is {}'.format(num_3))"
   ]
  },
  {
   "cell_type": "code",
   "execution_count": 17,
   "metadata": {},
   "outputs": [
    {
     "name": "stdout",
     "output_type": "stream",
     "text": [
      "The sum of two numbers is 10\n"
     ]
    }
   ],
   "source": [
    "#Add 2 numbers with print function\n",
    "m1=4\n",
    "m2=6\n",
    "m3=m1+m2\n",
    "print(f'The sum of two numbers is {m3}')"
   ]
  },
  {
   "cell_type": "code",
   "execution_count": 60,
   "metadata": {},
   "outputs": [
    {
     "name": "stdout",
     "output_type": "stream",
     "text": [
      "The squareroot of the number is 3.872983346207417\n"
     ]
    }
   ],
   "source": [
    "#To find squareroot of 2 numbers with no Float Flormatting \n",
    "numbr=15\n",
    "square_roote_root=number1**0.5\n",
    "print(f'The squareroot of the number is {square_root}')"
   ]
  },
  {
   "cell_type": "code",
   "execution_count": 62,
   "metadata": {},
   "outputs": [
    {
     "name": "stdout",
     "output_type": "stream",
     "text": [
      "The squareroot of the number is 3.873\n"
     ]
    }
   ],
   "source": [
    "#To find squareroot of 2 numbers with Float Formatting function\n",
    "numbr=15\n",
    "square_root=numbr**0.5\n",
    "print(f'The squareroot of the number is {square_root:1.3f}')"
   ]
  },
  {
   "cell_type": "code",
   "execution_count": 42,
   "metadata": {},
   "outputs": [
    {
     "name": "stdout",
     "output_type": "stream",
     "text": [
      "The area of right angle triangle is 40.0\n"
     ]
    }
   ],
   "source": [
    "#To find area of a right angle triangle\n",
    "s1 = 8\n",
    "s2 = 10\n",
    "area_of_right_angle_triangle=0.5*s1*s2\n",
    "print(f'The area of right angle triangle is {area_of_right_angle_triangle}')"
   ]
  },
  {
   "cell_type": "code",
   "execution_count": 51,
   "metadata": {},
   "outputs": [
    {
     "name": "stdout",
     "output_type": "stream",
     "text": [
      "The area of any triangle is 15.198684153570664\n"
     ]
    }
   ],
   "source": [
    "#To find area of any angle triangle\n",
    "side1 = 8\n",
    "side2 = 4\n",
    "side3 = 10\n",
    "s = (side1+side2+side3)/2\n",
    "area_of_any_triangle = (s*(s-side1)*(s-side2)*(s-side3))**0.5\n",
    "print(f'The area of any triangle is {area_of_any_triangle}')"
   ]
  },
  {
   "cell_type": "code",
   "execution_count": 53,
   "metadata": {},
   "outputs": [
    {
     "name": "stdout",
     "output_type": "stream",
     "text": [
      "The area of any triangle is 15.199\n"
     ]
    }
   ],
   "source": [
    "#To find area of any angle triangle with Float Formatting function\n",
    "side1 = 8\n",
    "side2 = 4\n",
    "side3 = 10\n",
    "s = (side1+side2+side3)/2\n",
    "area_of_any_triangle = (s*(s-side1)*(s-side2)*(s-side3))**0.5\n",
    "print(f'The area of any triangle is {area_of_any_triangle:1.3f}')"
   ]
  },
  {
   "cell_type": "code",
   "execution_count": 65,
   "metadata": {},
   "outputs": [
    {
     "name": "stdout",
     "output_type": "stream",
     "text": [
      "The numbers before swapping are 8 and 4\n",
      "The numbers after swapping are 4 and 8\n"
     ]
    }
   ],
   "source": [
    "#To swap two numbers\n",
    "swap1 = 8\n",
    "swap2 = 4\n",
    "print(f'The numbers before swapping are {swap1} and {swap2}')\n",
    "#Lets start the swapping\n",
    "temp=swap1\n",
    "swap1=swap2\n",
    "swap2=temp\n",
    "print(f'The numbers after swapping are {swap1} and {swap2}')"
   ]
  },
  {
   "cell_type": "code",
   "execution_count": 67,
   "metadata": {},
   "outputs": [
    {
     "name": "stdout",
     "output_type": "stream",
     "text": [
      "The numbers before swapping are 2 and 3\n",
      "The numbers after swapping are 3 and 2\n"
     ]
    }
   ],
   "source": [
    "#To swap two numbers without using temporary variable\n",
    "swap1 = 2\n",
    "swap2 = 3\n",
    "print(f'The numbers before swapping are {swap1} and {swap2}')\n",
    "#Lets start the swapping\n",
    "swap1,swap2=swap2,swap1\n",
    "print(f'The numbers after swapping are {swap1} and {swap2}')"
   ]
  },
  {
   "cell_type": "code",
   "execution_count": 71,
   "metadata": {},
   "outputs": [
    {
     "name": "stdout",
     "output_type": "stream",
     "text": [
      "The numbers before reversing is NametaG\n",
      "The numbers after reversing is GatemaN\n"
     ]
    }
   ],
   "source": [
    "#To reverse the string or word\n",
    "stringbefore1=\"NametaG\"\n",
    "print(f'The numbers before reversing is {stringbefore1}')\n",
    "#Lets do the reversal\n",
    "stringafter1=stringbefore1[::-1]\n",
    "print(f'The numbers after reversing is {stringafter1}')"
   ]
  },
  {
   "cell_type": "code",
   "execution_count": 70,
   "metadata": {},
   "outputs": [
    {
     "name": "stdout",
     "output_type": "stream",
     "text": [
      "The numbers before reversing is stressed\n",
      "The numbers after reversing is desserts\n"
     ]
    }
   ],
   "source": [
    "#To reverse the string or word\n",
    "stringbefore_reversal=\"stressed\"\n",
    "print(f'The numbers before reversing is {stringbefore_reversal}')\n",
    "#Lets do the reversal\n",
    "stringafter_reversal=stringbefore_reversal[::-1]\n",
    "print(f'The numbers after reversing is {stringafter_reversal}')"
   ]
  },
  {
   "cell_type": "code",
   "execution_count": 22,
   "metadata": {},
   "outputs": [
    {
     "name": "stdout",
     "output_type": "stream",
     "text": [
      "1\n",
      "2\n",
      "3\n",
      "4\n",
      "5\n",
      "6\n",
      "7\n",
      "8\n",
      "9\n"
     ]
    }
   ],
   "source": [
    "#For loop to print a number\n",
    "number_to_check = [1,2,3,4,5,6,7,8,9]\n",
    "for num in number_to_check:\n",
    "print(num)"
   ]
  },
  {
   "cell_type": "code",
   "execution_count": 20,
   "metadata": {},
   "outputs": [
    {
     "name": "stdout",
     "output_type": "stream",
     "text": [
      "1\n",
      "2\n",
      "3\n",
      "4\n",
      "5\n"
     ]
    }
   ],
   "source": [
    "#For loop to print a number\n",
    "number_to_check = [1,2,3,4,5]\n",
    "for num in number_to_check:\n",
    "    print(num)"
   ]
  },
  {
   "cell_type": "code",
   "execution_count": 18,
   "metadata": {},
   "outputs": [
    {
     "name": "stdout",
     "output_type": "stream",
     "text": [
      "It is a odd number 1\n",
      "This numbers is even 2\n",
      "It is a odd number 3\n",
      "This numbers is even 4\n",
      "It is a odd number 5\n",
      "This numbers is even 6\n",
      "It is a odd number 7\n",
      "This numbers is even 8\n",
      "It is a odd number 9\n"
     ]
    }
   ],
   "source": [
    "#To check whether a number is even or odd\n",
    "number_to_check=[1,2,3,4,5,6,7,8,9]\n",
    "for nm in number_to_check:\n",
    "    if nm % 2==0:\n",
    "        print(f'This numbers is even {nm}')\n",
    "    else:\n",
    "        print(f'It is a odd number {nm}')"
   ]
  },
  {
   "cell_type": "code",
   "execution_count": 25,
   "metadata": {},
   "outputs": [
    {
     "name": "stdout",
     "output_type": "stream",
     "text": [
      "1\n",
      "3\n",
      "6\n",
      "10\n",
      "15\n",
      "21\n",
      "28\n",
      "36\n",
      "45\n"
     ]
    }
   ],
   "source": [
    "#For sum of numbers in a list\n",
    "list_sum = 0\n",
    "mylist = [1,2,3,4,5,6,7,8,9]\n",
    "for praveen in mylist:\n",
    "    list_sum=list_sum + praveen\n",
    "    print(list_sum)"
   ]
  },
  {
   "cell_type": "code",
   "execution_count": 26,
   "metadata": {},
   "outputs": [
    {
     "name": "stdout",
     "output_type": "stream",
     "text": [
      "45\n"
     ]
    }
   ],
   "source": [
    "#To calculate the sum of all numbers from 1 to a given number\n",
    "list_sum = 0\n",
    "mylist = [1,2,3,4,5,6,7,8,9]\n",
    "for praveen in mylist:\n",
    "    list_sum=list_sum + praveen\n",
    "print(list_sum)"
   ]
  },
  {
   "cell_type": "code",
   "execution_count": 28,
   "metadata": {},
   "outputs": [
    {
     "name": "stdout",
     "output_type": "stream",
     "text": [
      "1\n",
      "2\n",
      "6\n",
      "24\n",
      "120\n",
      "720\n",
      "5040\n",
      "40320\n",
      "362880\n"
     ]
    }
   ],
   "source": [
    "#To program to print multiplication table of a given number\n",
    "list_sum = 1\n",
    "mylist = [1,2,3,4,5,6,7,8,9]\n",
    "for praveen in mylist:\n",
    "    list_sum=list_sum * praveen\n",
    "    print(list_sum)"
   ]
  },
  {
   "cell_type": "code",
   "execution_count": 32,
   "metadata": {},
   "outputs": [
    {
     "name": "stdout",
     "output_type": "stream",
     "text": [
      "2\n",
      "4\n",
      "6\n",
      "8\n",
      "10\n",
      "12\n",
      "14\n",
      "16\n",
      "18\n"
     ]
    }
   ],
   "source": [
    "#To program to print multiplication table of a given number\n",
    "mylist = [1,2,3,4,5,6,7,8,9]\n",
    "for praveen in mylist:\n",
    "    list_sum = 2\n",
    "    list_sum=list_sum * praveen\n",
    "    print(list_sum)"
   ]
  },
  {
   "cell_type": "code",
   "execution_count": 39,
   "metadata": {},
   "outputs": [
    {
     "name": "stdout",
     "output_type": "stream",
     "text": [
      "-10\n",
      "-9\n",
      "-8\n",
      "-7\n",
      "-6\n",
      "-5\n",
      "-4\n",
      "-3\n",
      "-2\n",
      "-1\n"
     ]
    }
   ],
   "source": [
    "#Program to display numbers from -10 to -1 using for loop\n",
    "for praveen1 in range(-10,0,+1):\n",
    "    print(praveen1) "
   ]
  },
  {
   "cell_type": "code",
   "execution_count": null,
   "metadata": {},
   "outputs": [],
   "source": []
  }
 ],
 "metadata": {
  "kernelspec": {
   "display_name": "Python 3",
   "language": "python",
   "name": "python3"
  },
  "language_info": {
   "codemirror_mode": {
    "name": "ipython",
    "version": 3
   },
   "file_extension": ".py",
   "mimetype": "text/x-python",
   "name": "python",
   "nbconvert_exporter": "python",
   "pygments_lexer": "ipython3",
   "version": "3.7.0"
  }
 },
 "nbformat": 4,
 "nbformat_minor": 2
}
