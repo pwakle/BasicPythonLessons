{
 "cells": [
  {
   "cell_type": "code",
   "execution_count": 1,
   "id": "b7cddd22",
   "metadata": {},
   "outputs": [],
   "source": [
    "# Programs on Functions of Tuple"
   ]
  },
  {
   "cell_type": "code",
   "execution_count": 2,
   "id": "f0caf424",
   "metadata": {},
   "outputs": [
    {
     "name": "stdout",
     "output_type": "stream",
     "text": [
      "[10, 20, 30, 40]\n"
     ]
    }
   ],
   "source": [
    "#Program to sort elements based on default natural sorting order\n",
    "x=(40,10,30,20)\n",
    "x1=sorted(x)\n",
    "print(x1)"
   ]
  },
  {
   "cell_type": "code",
   "execution_count": 3,
   "id": "f11692de",
   "metadata": {},
   "outputs": [
    {
     "name": "stdout",
     "output_type": "stream",
     "text": [
      "[40, 30, 20, 10]\n"
     ]
    }
   ],
   "source": [
    "#Program to reverse of default natural sorting order as follows\n",
    "x=(40,10,30,20)\n",
    "x2=sorted(x,reverse=True)\n",
    "print(x2)"
   ]
  },
  {
   "cell_type": "code",
   "execution_count": 5,
   "id": "6389213f",
   "metadata": {},
   "outputs": [
    {
     "name": "stdout",
     "output_type": "stream",
     "text": [
      "10\n",
      "40\n"
     ]
    }
   ],
   "source": [
    "#Program to get min and max values according to default natural sorting order\n",
    "x=(40,10,30,20)\n",
    "print(min(x))\n",
    "print(max(x))"
   ]
  },
  {
   "cell_type": "code",
   "execution_count": 9,
   "id": "5c7cd6cd",
   "metadata": {},
   "outputs": [
    {
     "name": "stdout",
     "output_type": "stream",
     "text": [
      "True\n",
      "False\n"
     ]
    }
   ],
   "source": [
    "# How to Check if an Item Exists in the Python Tuple\n",
    "l1=(\"akshay\",\"salman\",\"Amit\")\n",
    "print(\"salman\" in l1)\n",
    "print(\"manish\" in l1)"
   ]
  },
  {
   "cell_type": "code",
   "execution_count": 12,
   "id": "66c1a2f6",
   "metadata": {},
   "outputs": [
    {
     "name": "stdout",
     "output_type": "stream",
     "text": [
      "('o', 'g', 'r')\n",
      "('p', 'r', 'o', 'g', 'r', 'a')\n"
     ]
    }
   ],
   "source": [
    "#Program for accessing tuple elements using slicing\n",
    "my_tuple = ('p', 'r', 'o', 'g', 'r', 'a', 'm', 'i', 'z')\n",
    "print(my_tuple[2:5])\n",
    "print(my_tuple[:-3])"
   ]
  }
 ],
 "metadata": {
  "kernelspec": {
   "display_name": "Python 3 (ipykernel)",
   "language": "python",
   "name": "python3"
  },
  "language_info": {
   "codemirror_mode": {
    "name": "ipython",
    "version": 3
   },
   "file_extension": ".py",
   "mimetype": "text/x-python",
   "name": "python",
   "nbconvert_exporter": "python",
   "pygments_lexer": "ipython3",
   "version": "3.10.9"
  }
 },
 "nbformat": 4,
 "nbformat_minor": 5
}
