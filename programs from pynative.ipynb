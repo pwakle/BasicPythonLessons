{
 "cells": [
  {
   "cell_type": "code",
   "execution_count": 2,
   "metadata": {},
   "outputs": [
    {
     "name": "stdout",
     "output_type": "stream",
     "text": [
      "1\n",
      "2\n",
      "3\n",
      "4\n",
      "5\n"
     ]
    }
   ],
   "source": [
    "# program 1: Print first 5 natural numbers using while loop\n",
    "n=1\n",
    "while n <= 5:\n",
    "    print(n)\n",
    "    n=n+1"
   ]
  },
  {
   "cell_type": "code",
   "execution_count": 3,
   "metadata": {},
   "outputs": [
    {
     "name": "stdout",
     "output_type": "stream",
     "text": [
      "enter the end value of series:3\n",
      "1\n",
      "2\n",
      "3\n"
     ]
    }
   ],
   "source": [
    "#Exercise 3: Calculate the sum of all numbers from 1 to a given number using while loop\n",
    "given_number=int(input(\"enter the end value of series:\"))\n",
    "n_1=1\n",
    "while n_1 <= given_number:\n",
    "    print(n_1)\n",
    "    n_1=n_1+1"
   ]
  },
  {
   "cell_type": "code",
   "execution_count": 19,
   "metadata": {},
   "outputs": [
    {
     "name": "stdout",
     "output_type": "stream",
     "text": [
      "enter the end value of series:5\n",
      "5\n"
     ]
    }
   ],
   "source": [
    "#Exercise 3: Print first n natural numbers using for loop\n",
    "given_num=int(input(\"enter the end value of series:\"))\n",
    "a_1=1\n",
    "for a_1 in range(given_num):\n",
    "    a_1 = a_1+1\n",
    "    print(a_1)"
   ]
  },
  {
   "cell_type": "code",
   "execution_count": 28,
   "metadata": {},
   "outputs": [
    {
     "name": "stdout",
     "output_type": "stream",
     "text": [
      "enter the end value of series:4\n",
      "1\n",
      "2\n",
      "3\n",
      "4\n"
     ]
    }
   ],
   "source": [
    "#Exercise 3: Calculate the sum of all numbers from 1 to a given number using for loop\n",
    "given_num=int(input(\"enter the end value of series:\"))\n",
    "a_1=1\n",
    "for a_1 in range(0,given_num,1):\n",
    "    a_1 = a_1+1\n",
    "    print(a_1)"
   ]
  }
 ],
 "metadata": {
  "kernelspec": {
   "display_name": "Python 3",
   "language": "python",
   "name": "python3"
  },
  "language_info": {
   "codemirror_mode": {
    "name": "ipython",
    "version": 3
   },
   "file_extension": ".py",
   "mimetype": "text/x-python",
   "name": "python",
   "nbconvert_exporter": "python",
   "pygments_lexer": "ipython3",
   "version": "3.7.0"
  }
 },
 "nbformat": 4,
 "nbformat_minor": 2
}
