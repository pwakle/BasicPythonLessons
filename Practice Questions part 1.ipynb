{
 "cells": [
  {
   "cell_type": "code",
   "execution_count": 1,
   "metadata": {},
   "outputs": [],
   "source": [
    "# First program from programiz website \n",
    "#https://www.programiz.com/python-programming/examples/hello-world"
   ]
  },
  {
   "cell_type": "code",
   "execution_count": 1,
   "metadata": {},
   "outputs": [
    {
     "name": "stdout",
     "output_type": "stream",
     "text": [
      "Hello,world\n"
     ]
    }
   ],
   "source": [
    "#To print Hello World\n",
    "x=\"Hello,world\"\n",
    "print(x)"
   ]
  },
  {
   "cell_type": "code",
   "execution_count": 4,
   "metadata": {},
   "outputs": [
    {
     "name": "stdout",
     "output_type": "stream",
     "text": [
      "The sum of a & b is 7.8\n"
     ]
    }
   ],
   "source": [
    "#Python Program to Add Two Numbers num1 & num2\n",
    "a = 1.5\n",
    "b = 6.3\n",
    "s = (a + b)\n",
    "print(\"The sum of a & b is\", s)"
   ]
  },
  {
   "cell_type": "code",
   "execution_count": 11,
   "metadata": {},
   "outputs": [
    {
     "name": "stdout",
     "output_type": "stream",
     "text": [
      "Enter the first number 10\n",
      "Enter the second number 20\n",
      "The sum of a & b is 30\n"
     ]
    }
   ],
   "source": [
    "#Python Program to Add Two Numbers num1 & num2\n",
    "a = input(\"Enter the first number \")\n",
    "b = input(\"Enter the second number \")\n",
    "s = int(a) + int(b)\n",
    "print(\"The sum of a & b is\",s)"
   ]
  },
  {
   "cell_type": "code",
   "execution_count": 17,
   "metadata": {},
   "outputs": [
    {
     "name": "stdout",
     "output_type": "stream",
     "text": [
      "Enter the first number 10\n",
      "Enter the second number 20\n",
      "The sum of a & b is 30.0\n"
     ]
    }
   ],
   "source": [
    "#Python Program to Add Two Numbers num1 & num2\n",
    "a = input(\"Enter the first number \")\n",
    "b = input(\"Enter the second number \")\n",
    "s = float(a) + float(b)\n",
    "print(\"The sum of a & b is\",s)"
   ]
  },
  {
   "cell_type": "code",
   "execution_count": 22,
   "metadata": {},
   "outputs": [
    {
     "name": "stdout",
     "output_type": "stream",
     "text": [
      "Enter the first number 100\n",
      "10.0\n"
     ]
    }
   ],
   "source": [
    "# Python Program to calculate the square root\n",
    "q = float(input(\"Enter the first number \"))\n",
    "sqrtofq = q**0.5\n",
    "print(sqrtofq)"
   ]
  },
  {
   "cell_type": "code",
   "execution_count": 23,
   "metadata": {},
   "outputs": [
    {
     "name": "stdout",
     "output_type": "stream",
     "text": [
      "Enter the first number 25\n",
      "5.0\n"
     ]
    }
   ],
   "source": [
    "# Python Program to calculate the square root\n",
    "w = int(input(\"Enter the first number \"))\n",
    "sqrtofw = w ** 0.5\n",
    "print(sqrtofw)"
   ]
  },
  {
   "cell_type": "code",
   "execution_count": 24,
   "metadata": {},
   "outputs": [
    {
     "name": "stdout",
     "output_type": "stream",
     "text": [
      "Enter the first number 3\n",
      "Enter the second number 4\n",
      "Enter the Third number 5\n",
      "The area of the triangle is 6.0\n"
     ]
    }
   ],
   "source": [
    "# Python Program to find the area of triangle\n",
    "t1 = int(input(\"Enter the first number \"))\n",
    "t2 = int(input(\"Enter the second number \"))\n",
    "t3 = int(input(\"Enter the Third number \"))\n",
    "# calculate the semi-perimeter\n",
    "sum1 = (t1 + t2 + t3) / 2\n",
    "# calculate the area\n",
    "area1 = (sum1*(sum1-t1)*(sum1-2)*(sum1-t3)) ** 0.5\n",
    "print(\"The area of the triangle is\", sum1)"
   ]
  },
  {
   "cell_type": "code",
   "execution_count": null,
   "metadata": {},
   "outputs": [],
   "source": [
    "# Solve the quadratic equation q1x**2 + q2x + q3 = 0\n",
    "q1 = int(input(\"Enter the first number \"))\n",
    "q2 = int(input(\"Enter the second number \"))\n",
    "q3 = int(input(\"Enter the Third number \"))\n",
    "# calculate the discriminant\n",
    "d = (b**2) - (4*a*c)\n",
    "# find two solutions\n",
    "sol1 = (-b + cmath.sqrt(d))/(2*a)\n",
    "sol2 = (-b - cmath.sqrt(d))/(2*a)\n",
    "print(sol1,sol2)"
   ]
  },
  {
   "cell_type": "code",
   "execution_count": 8,
   "metadata": {},
   "outputs": [
    {
     "name": "stdout",
     "output_type": "stream",
     "text": [
      "Swapped value of a1 is 3\n",
      "Swapped value of a2 is 2\n"
     ]
    }
   ],
   "source": [
    "# Python program to swap two variables\n",
    "a1 = 2\n",
    "a2 = 3\n",
    "# create a temporary variable and swap the values\n",
    "temp=a1\n",
    "a1=a2\n",
    "a2=temp\n",
    "print(\"Swapped value of a1 is\",a1)\n",
    "print(\"Swapped value of a2 is\",a2)"
   ]
  },
  {
   "cell_type": "code",
   "execution_count": 13,
   "metadata": {},
   "outputs": [
    {
     "name": "stdout",
     "output_type": "stream",
     "text": [
      "Enter value of a1:10\n",
      "Enter value of a2:20\n",
      "swapped value of a1 is 20\n",
      "swapped value of a2 is 10\n"
     ]
    }
   ],
   "source": [
    "# Python program to swap two variables\n",
    "a1 = int(input(\"Enter value of a1:\"))\n",
    "a2 = int(input(\"Enter value of a2:\"))\n",
    "# create a temporary variable and swap the values\n",
    "temp=a1\n",
    "a1=a2\n",
    "a2=temp\n",
    "print(\"swapped value of a1 is\",a1)\n",
    "print(\"swapped value of a2 is\",a2)"
   ]
  },
  {
   "cell_type": "code",
   "execution_count": 17,
   "metadata": {},
   "outputs": [
    {
     "name": "stdout",
     "output_type": "stream",
     "text": [
      "14\n"
     ]
    }
   ],
   "source": [
    "# Program to generate a random number between 0 and 9\n",
    "# importing the random module\n",
    "import random\n",
    "print(random.randint(10,19))"
   ]
  },
  {
   "cell_type": "code",
   "execution_count": 25,
   "metadata": {},
   "outputs": [
    {
     "name": "stdout",
     "output_type": "stream",
     "text": [
      "Enter distance in miles:10\n",
      "distance in miles= 6.21371\n"
     ]
    }
   ],
   "source": [
    "#Python Program to Convert Kilometers to Miles\n",
    "kilo_meters = float(input(\"Enter distance in miles:\"))\n",
    "# conversion factor\n",
    "conv_fac= 0.621371\n",
    "# calculate miles\n",
    "d_miles = kilo_meters * conv_fac\n",
    "print(\"distance in miles=\",d_miles)"
   ]
  },
  {
   "cell_type": "code",
   "execution_count": 29,
   "metadata": {},
   "outputs": [
    {
     "name": "stdout",
     "output_type": "stream",
     "text": [
      "Enter emperature in celsius:25\n",
      "Temperature in fahrenheit= 77.0\n"
     ]
    }
   ],
   "source": [
    "# Python Program to convert temperature in celsius to fahrenheit\n",
    "celsius_Value = float(input(\"Enter temperature in celsius:\"))\n",
    "# calculate fahrenheit\n",
    "fahrenheit = (celsius_Value * 1.8) + 32\n",
    "print(\"Temperature in fahrenheit=\",fahrenheit)"
   ]
  },
  {
   "cell_type": "code",
   "execution_count": 30,
   "metadata": {},
   "outputs": [
    {
     "name": "stdout",
     "output_type": "stream",
     "text": [
      "Enter temperature in fahrenheit:77\n",
      "Temperature in celsius= 25.0\n"
     ]
    }
   ],
   "source": [
    "#Python program to convert Fahrenheit to Celsius\n",
    "Fahrenheit_Value = float(input(\"Enter temperature in fahrenheit:\"))\n",
    "# calculate celsius\n",
    "Celsius = (Fahrenheit_Value - 32) / 1.8\n",
    "print(\"Temperature in celsius=\",Celsius)"
   ]
  }
 ],
 "metadata": {
  "kernelspec": {
   "display_name": "Python 3",
   "language": "python",
   "name": "python3"
  },
  "language_info": {
   "codemirror_mode": {
    "name": "ipython",
    "version": 3
   },
   "file_extension": ".py",
   "mimetype": "text/x-python",
   "name": "python",
   "nbconvert_exporter": "python",
   "pygments_lexer": "ipython3",
   "version": "3.7.0"
  }
 },
 "nbformat": 4,
 "nbformat_minor": 2
}
