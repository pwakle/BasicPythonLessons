{
 "cells": [
  {
   "cell_type": "code",
   "execution_count": 3,
   "metadata": {},
   "outputs": [
    {
     "name": "stdout",
     "output_type": "stream",
     "text": [
      "a/b= 5.0\n",
      "a//b= 5\n",
      "a%b= 0\n",
      "a**b= 100\n"
     ]
    }
   ],
   "source": [
    "#Python OPERATORS\n",
    "# / -->  Division Operator \n",
    "# % -->  Modulo Operator\n",
    "# // --> Floor Division Operator\n",
    "# ** --> Exponent Operator OR Power Operator\n",
    "a=10\n",
    "b=2 \n",
    "print('a/b=',a/b)# / operator always performs floating point arithmetic\n",
    "print('a//b=',a//b) #  If arguments are int type then result is int type. \n",
    "#If atleast one argument is float type then result is float type.\n",
    "\n",
    "print('a%b=',a%b)\n",
    "print('a**b=',a**b)   "
   ]
  },
  {
   "cell_type": "code",
   "execution_count": 6,
   "metadata": {},
   "outputs": [
    {
     "data": {
      "text/plain": [
       "True"
      ]
     },
     "execution_count": 6,
     "metadata": {},
     "output_type": "execute_result"
    }
   ],
   "source": [
    "# Equality Operators:  ==, !=\n",
    "10!= 20"
   ]
  },
  {
   "cell_type": "code",
   "execution_count": 7,
   "metadata": {},
   "outputs": [
    {
     "data": {
      "text/plain": [
       "False"
      ]
     },
     "execution_count": 7,
     "metadata": {},
     "output_type": "execute_result"
    }
   ],
   "source": [
    "# Chaining concept is applicable for equality operators\n",
    "10==20==30==40"
   ]
  },
  {
   "cell_type": "code",
   "execution_count": null,
   "metadata": {},
   "outputs": [],
   "source": [
    "#  For non-boolean Types Behaviour: 0 means False and non-zero means True "
   ]
  },
  {
   "cell_type": "code",
   "execution_count": 8,
   "metadata": {},
   "outputs": [
    {
     "name": "stdout",
     "output_type": "stream",
     "text": [
      "30\n"
     ]
    }
   ],
   "source": [
    "# Can combine asignment operator with some other operator to form compound assignment operator.              \n",
    "# Eg:  x += 10 or  x = x+10 \n",
    "x=10\n",
    "x+=20\n",
    "print(x)"
   ]
  },
  {
   "cell_type": "code",
   "execution_count": 14,
   "metadata": {},
   "outputs": [
    {
     "name": "stdout",
     "output_type": "stream",
     "text": [
      "Enter First Number:10\n",
      "Enter Second Number:23\n",
      "Enter Third Number:32\n",
      "Maximum Value: 32\n"
     ]
    }
   ],
   "source": [
    "# How to use Ternary Operator OR Conditional Operator\n",
    "# Syntax: x =  firstValue if condition else secondValue \n",
    "# Program for Maximum of 3 Numbers\n",
    "a1=int(input(\"Enter First Number:\"))\n",
    "b1=int(input(\"Enter Second Number:\"))  \n",
    "c1=int(input(\"Enter Third Number:\"))\n",
    "max=a1 if a1>b1 and a1>c1 else b1 if b1>c1 else c1\n",
    "print(\"Maximum Value:\",max)"
   ]
  },
  {
   "cell_type": "code",
   "execution_count": 16,
   "metadata": {},
   "outputs": [
    {
     "name": "stdout",
     "output_type": "stream",
     "text": [
      "Enter First Number:12\n",
      "Enter Second Number:23\n",
      "Enter Third Number:45\n",
      "Minimum Value: 12\n"
     ]
    }
   ],
   "source": [
    "# Program for Minimum of 3 Numbers\n",
    "a2=int(input(\"Enter First Number:\"))\n",
    "b2=int(input(\"Enter Second Number:\"))  \n",
    "c2=int(input(\"Enter Third Number:\"))\n",
    "min=a2 if a2<b2 and a2<c2 else b2 if b2<c2 else c2\n",
    "print(\"Minimum Value:\",min)"
   ]
  }
 ],
 "metadata": {
  "kernelspec": {
   "display_name": "Python 3",
   "language": "python",
   "name": "python3"
  },
  "language_info": {
   "codemirror_mode": {
    "name": "ipython",
    "version": 3
   },
   "file_extension": ".py",
   "mimetype": "text/x-python",
   "name": "python",
   "nbconvert_exporter": "python",
   "pygments_lexer": "ipython3",
   "version": "3.7.0"
  }
 },
 "nbformat": 4,
 "nbformat_minor": 2
}
