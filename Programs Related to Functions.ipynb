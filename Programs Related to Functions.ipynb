{
 "cells": [
  {
   "cell_type": "code",
   "execution_count": 1,
   "id": "4e3d29ec",
   "metadata": {},
   "outputs": [],
   "source": [
    "#There are 2 types of functions 1) Built in Functions & 2) User Defined Functions"
   ]
  },
  {
   "cell_type": "code",
   "execution_count": 11,
   "id": "382e98d6",
   "metadata": {},
   "outputs": [
    {
     "name": "stdout",
     "output_type": "stream",
     "text": [
      "Hello Function Creator\n"
     ]
    }
   ],
   "source": [
    "#Small Programs related to \"user defined functions\"\n",
    "def wish():\n",
    "    print(\"Hello Function Creator\")\n",
    "wish()"
   ]
  },
  {
   "cell_type": "code",
   "execution_count": 16,
   "id": "49c3ec6d",
   "metadata": {},
   "outputs": [
    {
     "ename": "NameError",
     "evalue": "name 'newwish' is not defined",
     "output_type": "error",
     "traceback": [
      "\u001b[1;31m---------------------------------------------------------------------------\u001b[0m",
      "\u001b[1;31mNameError\u001b[0m                                 Traceback (most recent call last)",
      "Cell \u001b[1;32mIn[16], line 3\u001b[0m\n\u001b[0;32m      1\u001b[0m \u001b[38;5;66;03m# Note always define the functions first before calling the functions otherwise it will not work\u001b[39;00m\n\u001b[1;32m----> 3\u001b[0m \u001b[43mnewwish\u001b[49m()\n\u001b[0;32m      5\u001b[0m \u001b[38;5;28;01mdef\u001b[39;00m \u001b[38;5;21mnewwish\u001b[39m():\n\u001b[0;32m      6\u001b[0m     \u001b[38;5;28mprint\u001b[39m(\u001b[38;5;124m\"\u001b[39m\u001b[38;5;124mHello Function Creator\u001b[39m\u001b[38;5;124m\"\u001b[39m)\n",
      "\u001b[1;31mNameError\u001b[0m: name 'newwish' is not defined"
     ]
    }
   ],
   "source": [
    "# Note always define the functions first before calling the functions otherwise it will not work\n",
    "\n",
    "newwish()\n",
    "    \n",
    "def newwish():\n",
    "    print(\"Hello Function Creator\")"
   ]
  },
  {
   "cell_type": "code",
   "execution_count": 10,
   "id": "b5677909",
   "metadata": {},
   "outputs": [
    {
     "name": "stdout",
     "output_type": "stream",
     "text": [
      "Hello Function Repeator\n",
      "Hello Function Repeator\n"
     ]
    }
   ],
   "source": [
    "def try2times():\n",
    "    print(\"Hello Function Repeator\")\n",
    "try2times()\n",
    "try2times()"
   ]
  },
  {
   "cell_type": "code",
   "execution_count": 17,
   "id": "f34ed2e3",
   "metadata": {},
   "outputs": [
    {
     "name": "stdout",
     "output_type": "stream",
     "text": [
      "Hello Manish\n"
     ]
    }
   ],
   "source": [
    "# Passing a single argument to variable - > 'name'\n",
    "def wish(name):\n",
    "    print(\"Hello\", name)\n",
    "wish(\"Manish\")"
   ]
  },
  {
   "cell_type": "code",
   "execution_count": 19,
   "id": "6e2572a2",
   "metadata": {},
   "outputs": [
    {
     "name": "stdout",
     "output_type": "stream",
     "text": [
      "Your city bazinga is fantastic\n"
     ]
    }
   ],
   "source": [
    "# Passing a single argument to variable - > 'bazinga'\n",
    "def wish1(bazinga):\n",
    "    print(\"Your city\", bazinga, \"is fantastic\")\n",
    "wish1(\"bazinga\")"
   ]
  },
  {
   "cell_type": "code",
   "execution_count": 22,
   "id": "247cc557",
   "metadata": {},
   "outputs": [
    {
     "name": "stdout",
     "output_type": "stream",
     "text": [
      "5\n"
     ]
    }
   ],
   "source": [
    "# Passing a multiple argument to variable - > 'add'\n",
    "def sum1(a,b):\n",
    "    c=a+b\n",
    "    print(c)\n",
    "sum1(2,3)"
   ]
  },
  {
   "cell_type": "code",
   "execution_count": 23,
   "id": "628bc511",
   "metadata": {},
   "outputs": [
    {
     "name": "stdout",
     "output_type": "stream",
     "text": [
      "5\n",
      "30\n",
      "100\n"
     ]
    }
   ],
   "source": [
    "# Passing a multiple argument to sum of two numbers - > 'num'\n",
    "def num(a,b):\n",
    "    c=a+b\n",
    "    print(c)\n",
    "\n",
    "num(2,3)\n",
    "num(10,20)\n",
    "num(40,60)"
   ]
  },
  {
   "cell_type": "code",
   "execution_count": 24,
   "id": "b928261f",
   "metadata": {},
   "outputs": [
    {
     "name": "stdout",
     "output_type": "stream",
     "text": [
      "6\n",
      "200\n",
      "2400\n"
     ]
    }
   ],
   "source": [
    "# Passing a multiple argument to multiply of two numbers - > 'num'\n",
    "def mul(a1,b1):\n",
    "    c1=a1*b1\n",
    "    print(c1)\n",
    "\n",
    "mul(2,3)\n",
    "mul(10,20)\n",
    "mul(40,60)"
   ]
  },
  {
   "cell_type": "code",
   "execution_count": 25,
   "id": "db33cf6f",
   "metadata": {},
   "outputs": [
    {
     "name": "stdout",
     "output_type": "stream",
     "text": [
      "10\n",
      "60\n",
      "150\n"
     ]
    }
   ],
   "source": [
    "# Passing a multiple argument to sum of two numbers - > 'num'\n",
    "def num(a2,b2,c2):\n",
    "    d=a2+b2+c2\n",
    "    print(d)\n",
    "\n",
    "num(2,3,5)\n",
    "num(10,20,30)\n",
    "num(40,60,50)"
   ]
  }
 ],
 "metadata": {
  "kernelspec": {
   "display_name": "Python 3 (ipykernel)",
   "language": "python",
   "name": "python3"
  },
  "language_info": {
   "codemirror_mode": {
    "name": "ipython",
    "version": 3
   },
   "file_extension": ".py",
   "mimetype": "text/x-python",
   "name": "python",
   "nbconvert_exporter": "python",
   "pygments_lexer": "ipython3",
   "version": "3.10.9"
  }
 },
 "nbformat": 4,
 "nbformat_minor": 5
}
