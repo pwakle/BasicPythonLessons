{
 "cells": [
  {
   "cell_type": "code",
   "execution_count": null,
   "id": "2dd74761",
   "metadata": {},
   "outputs": [],
   "source": [
    "# Programs for FLOW CONTROL"
   ]
  },
  {
   "cell_type": "code",
   "execution_count": 1,
   "id": "9bcb8b74",
   "metadata": {},
   "outputs": [],
   "source": [
    "#Conditional Statement includes\n",
    "#if\n",
    "#if-elif\n",
    "#if-elif-else"
   ]
  },
  {
   "cell_type": "code",
   "execution_count": 6,
   "id": "ca8ff662",
   "metadata": {},
   "outputs": [
    {
     "name": "stdout",
     "output_type": "stream",
     "text": [
      "Enter Name:praveen\n",
      "Hello praveen Good Morning\n"
     ]
    }
   ],
   "source": [
    "#if Conditional Statement\n",
    "\n",
    "name=input(\"Enter Name:\")\n",
    "if name==\"praveen\":\n",
    "    print(\"Hello praveen Good Morning\") "
   ]
  },
  {
   "cell_type": "code",
   "execution_count": 8,
   "id": "e16f27bd",
   "metadata": {},
   "outputs": [
    {
     "name": "stdout",
     "output_type": "stream",
     "text": [
      "Enter Name:Sagar\n",
      "Good Morning Stranger\n"
     ]
    }
   ],
   "source": [
    "#if else Conditional Statement\n",
    "\n",
    "name=input(\"Enter Name:\")\n",
    "if name==\"praveen\":\n",
    "    print(\"Hello praveen Good Morning\")\n",
    "else:\n",
    "        print(\"Good Morning Stranger\")"
   ]
  }
 ],
 "metadata": {
  "kernelspec": {
   "display_name": "Python 3 (ipykernel)",
   "language": "python",
   "name": "python3"
  },
  "language_info": {
   "codemirror_mode": {
    "name": "ipython",
    "version": 3
   },
   "file_extension": ".py",
   "mimetype": "text/x-python",
   "name": "python",
   "nbconvert_exporter": "python",
   "pygments_lexer": "ipython3",
   "version": "3.10.9"
  }
 },
 "nbformat": 4,
 "nbformat_minor": 5
}
