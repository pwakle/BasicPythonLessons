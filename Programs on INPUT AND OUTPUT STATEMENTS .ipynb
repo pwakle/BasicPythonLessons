{
 "cells": [
  {
   "cell_type": "code",
   "execution_count": 1,
   "metadata": {},
   "outputs": [],
   "source": [
    "#INPUT AND OUTPUT STATEMENTS "
   ]
  },
  {
   "cell_type": "code",
   "execution_count": 17,
   "metadata": {},
   "outputs": [
    {
     "name": "stdout",
     "output_type": "stream",
     "text": [
      "Enter first number:10\n",
      "Enter first number:20\n",
      "The Sum = 30\n"
     ]
    }
   ],
   "source": [
    "# Program to read 2 numbers from the keyboard and print sum \n",
    "x1=int(input(\"Enter first number:\"))\n",
    "y1=int(input(\"Enter first number:\"))\n",
    "print(\"The Sum =\", x1+y1)"
   ]
  },
  {
   "cell_type": "code",
   "execution_count": 8,
   "metadata": {},
   "outputs": [
    {
     "name": "stdout",
     "output_type": "stream",
     "text": [
      "Enter First Number:100\n",
      "Enter Second Number:200\n",
      "The Sum is  300\n"
     ]
    }
   ],
   "source": [
    "# Program to read 2 numbers from the keyboard and print sum \n",
    "a1=input(\"Enter First Number:\")   \n",
    "b1=input(\"Enter Second Number:\")   \n",
    "i = int(a1)   \n",
    "j = int(b1)\n",
    "print(\"The Sum is \", i+j)"
   ]
  },
  {
   "cell_type": "code",
   "execution_count": 9,
   "metadata": {},
   "outputs": [],
   "source": [
    "#Learning is -->HAd forgotten the \"comma\";while printing the answer"
   ]
  },
  {
   "cell_type": "code",
   "execution_count": 15,
   "metadata": {},
   "outputs": [
    {
     "name": "stdout",
     "output_type": "stream",
     "text": [
      "60\n"
     ]
    }
   ],
   "source": [
    "#What is eval function?\n",
    "#eval():--> eval Function take a String and evaluate the Result\n",
    "x=eval(\"10+20+30\")\n",
    "print(x)"
   ]
  },
  {
   "cell_type": "code",
   "execution_count": 18,
   "metadata": {},
   "outputs": [
    {
     "name": "stdout",
     "output_type": "stream",
     "text": [
      "Enter an Expression10+20*30/2\n",
      "310.0\n"
     ]
    }
   ],
   "source": [
    "y=eval(input(\"Enter an Expression\"))\n",
    "print(y)"
   ]
  },
  {
   "cell_type": "code",
   "execution_count": 19,
   "metadata": {},
   "outputs": [],
   "source": [
    "#Learning Outputs"
   ]
  },
  {
   "cell_type": "code",
   "execution_count": 23,
   "metadata": {
    "scrolled": true
   },
   "outputs": [
    {
     "name": "stdout",
     "output_type": "stream",
     "text": [
      "Hello\tWorld\n"
     ]
    }
   ],
   "source": [
    "print(\"Hello\\tWorld\")"
   ]
  },
  {
   "cell_type": "code",
   "execution_count": null,
   "metadata": {},
   "outputs": [],
   "source": [
    "#The default value for end attribute is \\n, which is nothing but new line character"
   ]
  },
  {
   "cell_type": "code",
   "execution_count": 21,
   "metadata": {},
   "outputs": [
    {
     "name": "stdout",
     "output_type": "stream",
     "text": [
      "Hellow World\n",
      "Hello \n",
      "World\n"
     ]
    }
   ],
   "source": [
    "#using use escape characters \n",
    "print(\"Hellow World\")\n",
    "print(\"Hello \\nWorld\")"
   ]
  },
  {
   "cell_type": "code",
   "execution_count": 26,
   "metadata": {},
   "outputs": [
    {
     "name": "stdout",
     "output_type": "stream",
     "text": [
      " Hello Hello Hello Hello Hello\n"
     ]
    }
   ],
   "source": [
    "#Using repetetion operator (*) in the string\n",
    "print(5*\" Hello\")"
   ]
  },
  {
   "cell_type": "code",
   "execution_count": 27,
   "metadata": {},
   "outputs": [
    {
     "name": "stdout",
     "output_type": "stream",
     "text": [
      " \n",
      "Hello \n",
      "Hello \n",
      "Hello \n",
      "Hello \n",
      "Hello\n"
     ]
    }
   ],
   "source": [
    "print(5*\" \\nHello\")"
   ]
  },
  {
   "cell_type": "code",
   "execution_count": 29,
   "metadata": {},
   "outputs": [
    {
     "name": "stdout",
     "output_type": "stream",
     "text": [
      "Hello Hello Hello Hello Hello \n"
     ]
    }
   ],
   "source": [
    "print(\"Hello \"*5)"
   ]
  },
  {
   "cell_type": "code",
   "execution_count": 33,
   "metadata": {},
   "outputs": [
    {
     "name": "stdout",
     "output_type": "stream",
     "text": [
      "HelloWorld\n"
     ]
    }
   ],
   "source": [
    "# using + operator -->If both arguments are String type then + operator acts as concatenation operator\n",
    "print(\"Hello\"+\"World\")"
   ]
  },
  {
   "cell_type": "code",
   "execution_count": 35,
   "metadata": {},
   "outputs": [
    {
     "name": "stdout",
     "output_type": "stream",
     "text": [
      "The values are: 10 20 30\n"
     ]
    }
   ],
   "source": [
    "#By default output values are seperated by space.If we want we can specify seperator by using \"sep\" attribute\n",
    "p,q,r=10,20,30\n",
    "print(\"The values are:\",p,q,r)"
   ]
  },
  {
   "cell_type": "code",
   "execution_count": 42,
   "metadata": {},
   "outputs": [
    {
     "name": "stdout",
     "output_type": "stream",
     "text": [
      "100,200,300\n",
      "100:200:300\n"
     ]
    }
   ],
   "source": [
    "# If we want-->we can specify seperator by using \"sep\" attribute\n",
    "p1,q1,r1=100,200,300\n",
    "print(p1,q1,r1,sep=',')\n",
    "print(p1,q1,r1,sep=':')"
   ]
  },
  {
   "cell_type": "code",
   "execution_count": null,
   "metadata": {},
   "outputs": [],
   "source": []
  }
 ],
 "metadata": {
  "kernelspec": {
   "display_name": "Python 3",
   "language": "python",
   "name": "python3"
  },
  "language_info": {
   "codemirror_mode": {
    "name": "ipython",
    "version": 3
   },
   "file_extension": ".py",
   "mimetype": "text/x-python",
   "name": "python",
   "nbconvert_exporter": "python",
   "pygments_lexer": "ipython3",
   "version": "3.7.0"
  }
 },
 "nbformat": 4,
 "nbformat_minor": 2
}
