{
 "cells": [
  {
   "cell_type": "code",
   "execution_count": null,
   "metadata": {},
   "outputs": [],
   "source": [
    "#Python program to check whether the given number is even or not.\n",
    "a1=int(input(\"Please enter the number n:\"))\n",
    "if a1 % 2==0:\n",
    "    print(\"Number entered by user in even:\")\n",
    "else:\n",
    "    print(\"Number entered by user in odd:\")"
   ]
  },
  {
   "cell_type": "code",
   "execution_count": null,
   "metadata": {},
   "outputs": [],
   "source": [
    "#Python program to check whether the given integer is a multiple of 5\n",
    "m1=int(input(\"Please enter the number n:\"))\n",
    "if m1 % 5==0:\n",
    "    print(\"Number entered by user is a multiple of 5:\")\n",
    "else:\n",
    "    print(\"Number entered by user is not a multiple of 5:\")"
   ]
  },
  {
   "cell_type": "code",
   "execution_count": null,
   "metadata": {},
   "outputs": [],
   "source": [
    "#Python program to check whether the given integer is a multiple of both 5 and 7\n",
    "mb1=int(input(\"Please enter the number n:\"))\n",
    "if (mb1 % 5==0) and (mb1 % 7==0):\n",
    "    print(\"Number entered by user is a multiple of 5 and 7 :\")\n",
    "else:\n",
    "    print(\"Number entered by user is not a multiple of 5 and 7:\")"
   ]
  },
  {
   "cell_type": "code",
   "execution_count": 5,
   "metadata": {},
   "outputs": [
    {
     "name": "stdout",
     "output_type": "stream",
     "text": [
      "enter numbers to be used to find average :1.2\n",
      "enter numbers to be used to find average :1.4\n",
      "enter numbers to be used to find average :1.6\n",
      "1.3999999999999997\n"
     ]
    }
   ],
   "source": [
    "#Python program to find the average of 3 numbers using while loop\n",
    "n1 = 0\n",
    "Sum1 = 0\n",
    "while n1 <= 2:\n",
    "    num1 = float(input(\"enter numbers to be used to find average :\"))\n",
    "    n1+=1\n",
    "    Sum1+=num1\n",
    "Average1=Sum1/n1\n",
    "print(Average1)"
   ]
  },
  {
   "cell_type": "code",
   "execution_count": 11,
   "metadata": {
    "scrolled": true
   },
   "outputs": [
    {
     "name": "stdout",
     "output_type": "stream",
     "text": [
      "12\n",
      "15\n",
      "18\n",
      "21\n",
      "24\n",
      "27\n",
      "30\n",
      "33\n",
      "36\n",
      "39\n",
      "42\n",
      "45\n",
      "48\n"
     ]
    }
   ],
   "source": [
    "#Python program to display all the multiples of 3 within the range 10 to 50\n",
    "for multiples3 in range(10,50):\n",
    "    if multiples3 % 3 == 0:\n",
    "        print(multiples3)"
   ]
  }
 ],
 "metadata": {
  "kernelspec": {
   "display_name": "Python 3",
   "language": "python",
   "name": "python3"
  },
  "language_info": {
   "codemirror_mode": {
    "name": "ipython",
    "version": 3
   },
   "file_extension": ".py",
   "mimetype": "text/x-python",
   "name": "python",
   "nbconvert_exporter": "python",
   "pygments_lexer": "ipython3",
   "version": "3.7.0"
  }
 },
 "nbformat": 4,
 "nbformat_minor": 2
}
